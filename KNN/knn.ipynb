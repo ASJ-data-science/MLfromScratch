{
 "cells": [
  {
   "cell_type": "code",
   "execution_count": 3,
   "metadata": {},
   "outputs": [],
   "source": [
    "import numpy as np\n",
    "from sklearn import datasets\n",
    "from sklearn.model_selection import KFold\n",
    "import matplotlib.pyplot as plt"
   ]
  },
  {
   "cell_type": "code",
   "execution_count": 4,
   "metadata": {},
   "outputs": [],
   "source": [
    "class KNN:\n",
    "    def __init__(self, k=3):\n",
    "        self.k = k\n",
    "    \n",
    "    def fit(self, X, y):\n",
    "        self.X_train = X\n",
    "        self.y_train = y\n",
    "    \n",
    "    def predict(self, X_test):\n",
    "        # get predictions for every row in test data\n",
    "        y_pred = [self._get_single_prediction(x_test_row) for x_test_row in X_test]\n",
    "        return np.array(y_pred)\n",
    "\n",
    "    def _get_single_prediction(self, x_test_row):\n",
    "        # get distances of test_row vs all training rows\n",
    "        distances = [self._get_euclidean_distance(x_test_row, x_train_row) \n",
    "            for x_train_row in self.X_train]\n",
    "        # get indices of k-nearest neighbors -> k-smallest distances\n",
    "        k_idx = np.argsort(distances)[:self.k]\n",
    "        # get corresponding y-labels of training data\n",
    "        k_labels = [self.y_train[idx] for idx in k_idx]\n",
    "        # return most common label\n",
    "        return np.argmax(np.bincount(k_labels))\n",
    "\n",
    "    def _get_euclidean_distance(self, x1, x2):\n",
    "        # calculate euclidean distance for a row pair\n",
    "        sum_squared_distance = np.sum((x1 - x2)**2)\n",
    "        return np.sqrt(sum_squared_distance)"
   ]
  },
  {
   "cell_type": "code",
   "execution_count": 5,
   "metadata": {},
   "outputs": [
    {
     "name": "stdout",
     "output_type": "stream",
     "text": [
      "Mean Accuracy: 0.9600000000000002\n"
     ]
    }
   ],
   "source": [
    "# Testing\n",
    "if __name__ == \"__main__\":\n",
    "\n",
    "    def accuracy(y_true, y_pred):\n",
    "        accuracy = np.sum(y_true == y_pred) / len(y_true)\n",
    "        return accuracy\n",
    "\n",
    "    iris = datasets.load_iris()\n",
    "    X, y = iris.data, iris.target\n",
    "\n",
    "    scores = []\n",
    "    \n",
    "    cv = KFold(n_splits=5, shuffle=True, random_state=1)\n",
    "    for fold, (idx_train, idx_valid) in enumerate(cv.split(X)):\n",
    "        X_train, y_train = X[idx_train], y[idx_train]\n",
    "        X_valid, y_valid = X[idx_valid], y[idx_valid]\n",
    "\n",
    "        k = 3\n",
    "        clf = KNN(k=k)\n",
    "        clf.fit(X_train, y_train)\n",
    "        predictions = clf.predict(X_valid)\n",
    "\n",
    "        score = accuracy(y_valid, predictions)\n",
    "        scores.append(score)\n",
    "\n",
    "    print(f\"Mean Accuracy: {np.mean(scores)}\")"
   ]
  }
 ],
 "metadata": {
  "interpreter": {
   "hash": "ac59ebe37160ed0dfa835113d9b8498d9f09ceb179beaac4002f036b9467c963"
  },
  "kernelspec": {
   "display_name": "Python 3.9.7 64-bit",
   "language": "python",
   "name": "python3"
  },
  "language_info": {
   "codemirror_mode": {
    "name": "ipython",
    "version": 3
   },
   "file_extension": ".py",
   "mimetype": "text/x-python",
   "name": "python",
   "nbconvert_exporter": "python",
   "pygments_lexer": "ipython3",
   "version": "3.9.7"
  },
  "orig_nbformat": 4
 },
 "nbformat": 4,
 "nbformat_minor": 2
}
